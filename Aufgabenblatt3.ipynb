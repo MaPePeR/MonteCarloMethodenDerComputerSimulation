{
 "cells": [
  {
   "cell_type": "code",
   "execution_count": 1,
   "metadata": {
    "collapsed": false
   },
   "outputs": [
    {
     "name": "stdout",
     "output_type": "stream",
     "text": [
      "Populating the interactive namespace from numpy and matplotlib\n"
     ]
    }
   ],
   "source": [
    "%pylab inline\n",
    "import random\n",
    "from IPython.display import Math"
   ]
  },
  {
   "cell_type": "markdown",
   "metadata": {},
   "source": [
    "# Aufgabenblatt 3\n",
    "\n",
    "##1. Erzeugung von Zufallszahlen\n",
    "\n",
    "Generieren Sie Zufallszahlen aus einer Dreiecksverteilung:\n",
    "\n",
    "Erzeugen sie mit den Verfahren Zufallszalen mit Erwartungswert $\\mu = 1$ und Varianz $\\sigma^2 = 1$\n",
    "\n",
    "**a.)** durch Addition zweier Zufallszahlen aus einer Gleichverteilung, $\\xi_i \\mapsto \\mathcal{U}[0,1]$"
   ]
  },
  {
   "cell_type": "code",
   "execution_count": 2,
   "metadata": {
    "collapsed": false
   },
   "outputs": [
    {
     "data": {
      "text/latex": [
       "$$\\mu = 0.99765, \\sigma^2 = 0.16617$$"
      ],
      "text/plain": [
       "<IPython.core.display.Math object>"
      ]
     },
     "metadata": {},
     "output_type": "display_data"
    },
    {
     "data": {
      "image/png": "[encoded data removed]",
      "text/plain": [
       "<matplotlib.figure.Figure at 0x5761978>"
      ]
     },
     "metadata": {},
     "output_type": "display_data"
    }
   ],
   "source": [
    "N = 10000\n",
    "#Addiere 'N' mal zwei auf [0,1) gleich verteilte Zufallszahlen\n",
    "summeAusZweiGleichverteilungen = np.random.uniform(0,1,(N,)) + np.random.uniform(0,1,(N,))\n",
    "\n",
    "_ = pylab.hist(summeAusZweiGleichverteilungen, bins=100, normed=1)\n",
    "display(Math('\\mu = %.5f, \\sigma^2 = %.5f' % (summeAusZweiGleichverteilungen.mean(), summeAusZweiGleichverteilungen.var())))"
   ]
  },
  {
   "cell_type": "markdown",
   "metadata": {},
   "source": [
    "Um $\\mu=1$ und $\\sigma^2 = 1$ zu erreichen wählen wir andere Grenzen für die Gleichverteilungen\n",
    "\n",
    "Laut [Wikipedia](https://de.wikipedia.org/wiki/Dreiecksverteilung#Beziehung_zu_anderen_Verteilungen) gilt:\n",
    "\n",
    "> Die Summe zweier identischer unabhängiger und stetig gleichverteilter Zufallsvariablen ist dreiecksverteilt mit $b-c=c-a$, Standardabweichung ${\\sqrt{6}(b-a)} / {12}$\n",
    "\n",
    "Um $\\sigma^2 = 1$ zu erhalten wählen wir also als grenzen für die Dreiecksverteilung $a=-\\sqrt{6}, b=\\sqrt{6}$ um $\\sqrt{6} \\cdot 2 \\cdot \\sqrt{6} / 12 = 1$ zu erhalten.\n",
    "\n",
    "Da $b$ und $a$ den Grenzen der Dreiecksverteilung entsprechen, müssen sie halbiert werden um die Grenzen $a'$ und $b'$ für die Gleichverteilung zu erhalten."
   ]
  },
  {
   "cell_type": "code",
   "execution_count": 3,
   "metadata": {
    "collapsed": false,
    "scrolled": true
   },
   "outputs": [
    {
     "data": {
      "text/latex": [
       "$$\\mu = 0.99697, \\sigma^2 = 0.99884$$"
      ],
      "text/plain": [
       "<IPython.core.display.Math object>"
      ]
     },
     "metadata": {},
     "output_type": "display_data"
    },
    {
     "data": {
      "image/png": "[encoded data removed]",
      "text/plain": [
       "<matplotlib.figure.Figure at 0x7525c50>"
      ]
     },
     "metadata": {},
     "output_type": "display_data"
    }
   ],
   "source": [
    "#Parameter für Gleichverteilungen\n",
    "a = -sqrt(6)/2\n",
    "b =  sqrt(6)/2\n",
    "\n",
    "def dreiecksDichte(a, b, c, x):\n",
    "    if a <= x < c:\n",
    "        return 2 * (x - a) / ((b - a) * (c - a))\n",
    "    elif c < x <= b:\n",
    "        return 2 * (b - x) / ((b - a) * (b - c))\n",
    "    elif c == x:\n",
    "        return 2 / (b - a)\n",
    "    else:\n",
    "        return 0.0\n",
    "\n",
    "dreieckvec = np.vectorize(lambda x: dreiecksDichte(1 - sqrt(6), 1 + sqrt(6), 1, x))\n",
    "x = np.linspace(-2, 4, 100)\n",
    "y = dreieckvec(x)\n",
    "\n",
    "summeAusZweiGleichverteilungen = 1 + np.random.uniform(a,b,(N,)) + np.random.uniform(a,b,(N,))\n",
    "_ = pylab.hist(summeAusZweiGleichverteilungen, bins=100, normed=1)\n",
    "pylab.plot(x,y, '-')\n",
    "display(Math('\\mu = %.5f, \\sigma^2 = %.5f' % (summeAusZweiGleichverteilungen.mean(), summeAusZweiGleichverteilungen.var())))"
   ]
  },
  {
   "cell_type": "markdown",
   "metadata": {},
   "source": [
    "**b.)** durchdie Acceptance Rejection Methode. Schränken sie dabei das Dreieck durch die konstante Funktion im Definitionsgebiet ein."
   ]
  },
  {
   "cell_type": "markdown",
   "metadata": {},
   "source": [
    "`3-Zufallszahlen.pdf`: Acceptance-Rejection Methode (cont'd)\n",
    "> Algorithmus zur Erzeugung von Zufallszahlen aus $f(x)$\n",
    "> 1. Generiere $\\xi_1$ aus $g(x)$\n",
    "> 2. Generiere $\\xi_2$ aus $U(0,1)$\n",
    "> 3. Wenn $\\frac {f(\\xi_1)} {c g(\\xi_1)} \\ge \\xi_2$, akzeptiere $\\xi_1$  \n",
    ">    sonst gehe zu Schritt 1"
   ]
  },
  {
   "cell_type": "code",
   "execution_count": 4,
   "metadata": {
    "collapsed": false
   },
   "outputs": [],
   "source": [
    "acceptanceRejection=np.empty(N)\n",
    "\n",
    "c = 1/sqrt(6)\n",
    "for i in range(N):\n",
    "    #Versuche 100 mal eine Zahl zu ziehen\n",
    "    for _ in range(100):\n",
    "        #Generiere xi_1 aus g(x)\n",
    "        xi_1 = random.uniform(-sqrt(6) + 1, sqrt(6) + 1)\n",
    "        #Generiere xi_2 aus U(0,1)\n",
    "        xi_2 = random.uniform(0,1)\n",
    "        #Wenn f(xi_1) / (c * g(xi_1)) >= xi_2 akzeptiere xi_1\n",
    "        if (dreiecksDichte(-sqrt(6) + 1, sqrt(6) + 1, 1, xi_1)/c >= xi_2): #Da xi_1 nur aus dem Definitoonsgebiet gezogen wird ist g(x)=1 für alle xi_1\n",
    "            acceptanceRejection[i] = xi_1\n",
    "            break\n",
    "    else:\n",
    "        raise \"Zuuu viele versuche...\""
   ]
  },
  {
   "cell_type": "code",
   "execution_count": 5,
   "metadata": {
    "collapsed": false
   },
   "outputs": [
    {
     "data": {
      "text/latex": [
       "$$\\mu = 0.99970, \\sigma^2 = 1.00467$$"
      ],
      "text/plain": [
       "<IPython.core.display.Math object>"
      ]
     },
     "metadata": {},
     "output_type": "display_data"
    },
    {
     "data": {
      "image/png": "[encoded data removed]",
      "text/plain": [
       "<matplotlib.figure.Figure at 0x74ff438>"
      ]
     },
     "metadata": {},
     "output_type": "display_data"
    }
   ],
   "source": [
    "_ = pylab.hist(acceptanceRejection, bins=100, normed=1)\n",
    "pylab.plot(x,y, '-')\n",
    "display(Math('\\mu = %.5f, \\sigma^2 = %.5f' % (acceptanceRejection.mean(), acceptanceRejection.var())))\n",
    "\n",
    "del acceptanceRejection\n",
    "del summeAusZweiGleichverteilungen"
   ]
  },
  {
   "cell_type": "markdown",
   "metadata": {},
   "source": [
    "#EXTRA:  Durch Drehung\n",
    "\n",
    "Anstatt wie bei Acceptance/Rejectance $\\xi_1$ zu verwerfen, wenn der Punkt $(\\xi_1, \\xi_2)$ nicht unterhalb der Dichte liegt wird $\\xi_1$ an $a + \\frac {c - a} 2$, bzw $c + \\frac {b - c} 2$ gespiegelt. (Abhängig davon ob $\\xi_1 \\le c$ oder $\\xi_1 > c$)"
   ]
  },
  {
   "cell_type": "code",
   "execution_count": 6,
   "metadata": {
    "collapsed": false
   },
   "outputs": [
    {
     "data": {
      "image/png": "[encoded data removed]",
      "text/plain": [
       "<matplotlib.figure.Figure at 0x7a6d390>"
      ]
     },
     "metadata": {},
     "output_type": "display_data"
    }
   ],
   "source": [
    "#Erzeuge Zeichnung um das ganze ein wenig zu erklären...\n",
    "pylab.figure(figsize=(16,8))\n",
    "\n",
    "a = 0\n",
    "b = 1\n",
    "c = 0.8\n",
    "m = 2 / (b - a)\n",
    "dichte = lambda x: dreiecksDichte(a, b, c, x)\n",
    "dreieckvec = np.vectorize(dichte)\n",
    "x = np.linspace(a-0.25, b + 0.25, 1000)\n",
    "y = dreieckvec(x)\n",
    "rechteck = lambda x: m if a <= x <= b else 0\n",
    "pylab.plot(x,y, label=\"Dreieck(%.2f, %.2f, %.2f)\" % (a,b,c))\n",
    "pylab.plot(x, np.vectorize(rechteck)(x), 'r', label=\"Rechteck\")\n",
    "pylab.plot(x, np.zeros(len(x)), 'r', label=\"Rechteck\")\n",
    "\n",
    "drehPunkte = [a + (c - a) / 2, c + (b - c) / 2]\n",
    "pylab.scatter(drehPunkte,dreieckvec(drehPunkte), label = \"Drehpunkte\")\n",
    "pylab.vlines(c, 0, m, linestyles='dashed')\n",
    "\n",
    "for x, y in [(0.1, 0.75)]:\n",
    "    drehPunkt = (a + (c - a) / 2, dreieckvec(a + (c - a) / 2))\n",
    "    newx = x + 2 * (drehPunkt[0] - x)\n",
    "    newy = y + 2* (drehPunkt[1] - y )\n",
    "    pylab.annotate(\"\", xy=(newx, newy), xytext=(x, y), arrowprops=dict(arrowstyle=\"->\"))\n",
    "    pylab.vlines(newx, 0, newy, linestyles='dotted')\n",
    "    pylab.vlines(x, 0, y, linestyles='dotted')\n",
    "    pylab.annotate(r\"$\\xi_1$\", xy=(x, 0))\n",
    "    pylab.annotate(r\"$\\xi_1'$\", xy=(newx, 0))\n",
    "_ = pylab.legend(loc='upper left')"
   ]
  },
  {
   "cell_type": "code",
   "execution_count": 7,
   "metadata": {
    "collapsed": false
   },
   "outputs": [],
   "source": [
    "#Dreiecksverteilungs-Parameter\n",
    "a = -sqrt(6) + 1\n",
    "b =  sqrt(6) + 1\n",
    "c = 1\n",
    "\n",
    "N = 100000\n",
    "\n",
    "\n",
    "\n",
    "def dreheUm(p, x):\n",
    "    \"\"\"Spiegele Punkt p am Punkt x, sodass gilt p - x = - (p' - x). \n",
    "    Also der Abstand von p' zu x bleibt gleich, liegt jedoch auf der anderen Seite.\"\"\"\n",
    "    return x - (p - x)\n",
    "def versucheParameter(a,b,c):\n",
    "    m = 2 / (b - a)\n",
    "    dreieckvec = np.vectorize(lambda x: dreiecksDichte(a,b,c,x))\n",
    "    x = np.linspace(a - 0.25, b + 0.25, 100)\n",
    "    y = dreieckvec(x)\n",
    "\n",
    "    dreieckDrehung = np.empty(N)\n",
    "    for i in range(N):\n",
    "        xi_1 = random.uniform(a, b)\n",
    "        xi_2 = random.uniform(0, m)\n",
    "        if dreiecksDichte(a, b, c, xi_1) >= xi_2:\n",
    "            #(xi_1, xi_2) liegt unterhalb der dreiecksverteilung: wird akzeptiert\n",
    "            dreieckDrehung[i] =  xi_1\n",
    "        else:\n",
    "            #Anstatt wie bei acceptance rejectance abzulehnen drehen wir den punkt so, das er unterhalb liegt.\n",
    "            if xi_1 <= c:\n",
    "                dreieckDrehung[i] = dreheUm(xi_1, a + (c - a) /2)\n",
    "            elif xi_1 > c:\n",
    "                dreieckDrehung[i] = dreheUm(xi_1, c + (b - c) / 2)\n",
    "    pylab.hist(dreieckDrehung, bins=100, normed=1)\n",
    "    pylab.plot(x,y, '-')\n",
    "    display(Math('\\mu = %.5f, \\sigma^2 = %.5f' % (dreieckDrehung.mean(), dreieckDrehung.var())))"
   ]
  },
  {
   "cell_type": "code",
   "execution_count": 8,
   "metadata": {
    "collapsed": false
   },
   "outputs": [
    {
     "data": {
      "text/latex": [
       "$$\\text{Dreiecksverteilung mit } a = 1 - \\sqrt{6}, b = 1 + \\sqrt{6}, c = 1$$"
      ],
      "text/plain": [
       "<IPython.core.display.Math object>"
      ]
     },
     "metadata": {},
     "output_type": "display_data"
    },
    {
     "data": {
      "text/latex": [
       "$$\\mu = 1.00300, \\sigma^2 = 1.00256$$"
      ],
      "text/plain": [
       "<IPython.core.display.Math object>"
      ]
     },
     "metadata": {},
     "output_type": "display_data"
    },
    {
     "data": {
      "image/png": "[encoded data removed]",
      "text/plain": [
       "<matplotlib.figure.Figure at 0x79a5c88>"
      ]
     },
     "metadata": {},
     "output_type": "display_data"
    },
    {
     "data": {
      "text/latex": [
       "$$\\text{Dreiecksverteilung mit } a = 0, b = 1, c = 1$$"
      ],
      "text/plain": [
       "<IPython.core.display.Math object>"
      ]
     },
     "metadata": {},
     "output_type": "display_data"
    },
    {
     "data": {
      "text/latex": [
       "$$\\mu = 0.66636, \\sigma^2 = 0.05522$$"
      ],
      "text/plain": [
       "<IPython.core.display.Math object>"
      ]
     },
     "metadata": {},
     "output_type": "display_data"
    },
    {
     "data": {
      "image/png": "[encoded data removed]",
      "text/plain": [
       "<matplotlib.figure.Figure at 0x7523d68>"
      ]
     },
     "metadata": {},
     "output_type": "display_data"
    },
    {
     "data": {
      "text/latex": [
       "$$\\text{Dreiecksverteilung mit } a = 0, b = 1, c = 0$$"
      ],
      "text/plain": [
       "<IPython.core.display.Math object>"
      ]
     },
     "metadata": {},
     "output_type": "display_data"
    },
    {
     "data": {
      "text/latex": [
       "$$\\mu = 0.33327, \\sigma^2 = 0.05538$$"
      ],
      "text/plain": [
       "<IPython.core.display.Math object>"
      ]
     },
     "metadata": {},
     "output_type": "display_data"
    },
    {
     "data": {
      "image/png": "[encoded data removed]",
      "text/plain": [
       "<matplotlib.figure.Figure at 0x78a6dd8>"
      ]
     },
     "metadata": {},
     "output_type": "display_data"
    },
    {
     "data": {
      "text/latex": [
       "$$\\text{Dreiecksverteilung mit } a = -1, b = 1, c = 0$$"
      ],
      "text/plain": [
       "<IPython.core.display.Math object>"
      ]
     },
     "metadata": {},
     "output_type": "display_data"
    },
    {
     "data": {
      "text/latex": [
       "$$\\mu = -0.00104, \\sigma^2 = 0.16672$$"
      ],
      "text/plain": [
       "<IPython.core.display.Math object>"
      ]
     },
     "metadata": {},
     "output_type": "display_data"
    },
    {
     "data": {
      "image/png": "[encoded data removed]",
      "text/plain": [
       "<matplotlib.figure.Figure at 0x8095c50>"
      ]
     },
     "metadata": {},
     "output_type": "display_data"
    }
   ],
   "source": [
    "display(Math('\\\\text{Dreiecksverteilung mit } a = 1 - \\sqrt{6}, b = 1 + \\sqrt{6}, c = 1'))\n",
    "versucheParameter(1 - sqrt(6), 1 + sqrt(6), 1);\n",
    "pylab.show()\n",
    "for a,b,c in [(0, 1, 1), (0,1,0), (-1, 1, 0)]:\n",
    "    display(Math('\\\\text{Dreiecksverteilung mit } a = %d, b = %d, c = %d' % (a,b,c)))\n",
    "    versucheParameter(a, b, c);\n",
    "    pylab.show()"
   ]
  },
  {
   "cell_type": "markdown",
   "metadata": {},
   "source": [
    "Es konnten Zufallszahlen nach der gewünschten Dreiecksverteilung erzeugt werden, ohne das Zufallszahlen verworfen werden mussten."
   ]
  },
  {
   "cell_type": "markdown",
   "metadata": {},
   "source": [
    "##2. Integration mit der Mittelwert-Methode\n",
    "\n",
    "Bestimmen sie folgende Integrale mit der Mittelwert-Methode\n",
    "\n",
    "**a.)** $$\\int_0^1 \\frac{\\ln x} {x + 1}dx = \\frac {\\pi^2} {12}$$"
   ]
  },
  {
   "cell_type": "code",
   "execution_count": 9,
   "metadata": {
    "collapsed": false
   },
   "outputs": [
    {
     "name": "stdout",
     "output_type": "stream",
     "text": [
      "Ergebnis:  -0.8007331103063512\n",
      "Erwartet:  -0.8224670334241132\n",
      "Differenz: +0.02173392311776201\n"
     ]
    }
   ],
   "source": [
    "N = 5000\n",
    "def f(x):\n",
    "    return log(x)/(x+1)\n",
    "\n",
    "fv = np.vectorize(f)\n",
    "#Werte f an N zufälligen Stellen auf [0,1) aus. Summiere die Funktionswerte und teile durch N\n",
    "result = sum(fv(np.random.uniform(size=N)))/N\n",
    "print (\"Ergebnis:  {:+}\".format(result))\n",
    "print (\"Erwartet:  {:+}\".format(-(math.pi**2)/12))\n",
    "print (\"Differenz: {:+}\".format(result+(math.pi**2)/12))"
   ]
  },
  {
   "cell_type": "markdown",
   "metadata": {
    "collapsed": true
   },
   "source": [
    "**b.)** Als Beipsiel für eine mehrdimensionale Integration betrachten Sie die sogenannte Apéry-Konstante $\\zeta(3)$, die durch folgendes Integral dargestellt werden kann\n",
    "\n",
    "$$ \\int_0^1\\int_0^1\\int_0^1 dx dy dz \\frac {P_n(x)P_n(y)} {1-(1-xy)z} = \\begin{cases} \n",
    "      2\\zeta(3) & n=0 \\\\\n",
    "      2(\\zeta(3)-1) & n=1 \\\\\n",
    "      5\\zeta(3)-6 & n = 2 \\\\\n",
    "      12\\zeta(3)-\\frac {2201} {108} & n=3\\\\\n",
    "   \\end{cases}\n",
    "$$\n",
    "\n",
    "wobei die $P_n(x)$ die Legendre Polynome sind\n",
    "\n",
    "$$\n",
    "\\begin{align}\n",
    "P_0(x) &=1 \\\\\n",
    "P_1(x) &= x\\\\\n",
    "P_2(x) &= \\frac 1 2 (3x^2 - 1) \\\\\n",
    "P_3(x) &= \\frac 1 2 (5x^3 - 3x)\n",
    "\\end{align}\n",
    "$$\n",
    "Der Näherungswert für die Apérty-Konstante ist gegeben durch $$\\zeta(3) = 1.2020569031595942853997381615$$"
   ]
  },
  {
   "cell_type": "code",
   "execution_count": 10,
   "metadata": {
    "collapsed": false
   },
   "outputs": [
    {
     "data": {
      "text/latex": [
       "$$n = 0, \\zeta(3) \\approx 1.16868014248746576733  -0.03337676067212846931$$"
      ],
      "text/plain": [
       "<IPython.core.display.Math object>"
      ]
     },
     "metadata": {},
     "output_type": "display_data"
    },
    {
     "data": {
      "text/latex": [
       "$$n = 1, \\zeta(3) \\approx 1.20172068016071298402  -0.00033622299888125262$$"
      ],
      "text/plain": [
       "<IPython.core.display.Math object>"
      ]
     },
     "metadata": {},
     "output_type": "display_data"
    },
    {
     "data": {
      "text/latex": [
       "$$n = 2, \\zeta(3) \\approx 1.20261201817796581359  +0.00055511501837157695$$"
      ],
      "text/plain": [
       "<IPython.core.display.Math object>"
      ]
     },
     "metadata": {},
     "output_type": "display_data"
    },
    {
     "data": {
      "text/latex": [
       "$$n = 3, \\zeta(3) \\approx 1.20219921711775845630  +0.00014231395816421966$$"
      ],
      "text/plain": [
       "<IPython.core.display.Math object>"
      ]
     },
     "metadata": {},
     "output_type": "display_data"
    }
   ],
   "source": [
    "def P(n,x):\n",
    "    if n == 0:\n",
    "        return 1\n",
    "    elif n == 1:\n",
    "        return x\n",
    "    elif n == 2:\n",
    "        return (3*x**2-1)/2\n",
    "    elif n ==3:\n",
    "        return (5*x**3-3*x)/2\n",
    "def f(n,x,y,z):\n",
    "    return P(n,x)*P(n,y)/(1-(1-x*y)*z)\n",
    "\n",
    "#Stelle nach Zeta(3) um\n",
    "def getZeta(n,v):\n",
    "    if n ==0:\n",
    "        return v/2\n",
    "    elif n == 1:\n",
    "        return v/2 + 1\n",
    "    elif n == 2:\n",
    "        return (v + 6)/5\n",
    "    elif n == 3:\n",
    "        return (v + 2201./108)/17\n",
    "N = 10000\n",
    "fv = np.vectorize(f)\n",
    "for n in range(4):\n",
    "    v = sum(fv(n, np.random.uniform(size=N),np.random.uniform(size=N),np.random.uniform(size=N)))/N\n",
    "    z = getZeta(n,v)\n",
    "    display(Math('n = %d, \\zeta(3) \\\\approx %.20f  %+.20f' % (n, z, z - 1.2020569031595942853997381615))) "
   ]
  },
  {
   "cell_type": "markdown",
   "metadata": {},
   "source": [
    "##3. Vergleich zwischen Hit-and-Miss und Mittelwert-Methode\n",
    "\n",
    "Bestimmen Sie folgendes Integral\n",
    "$$I=\\int_0^{\\infty} e^{-(x^2-2)^2/2} dx\\approx 0.9977$$\n",
    "\n",
    "**a.)** Stellen sie zunächst den Integranden graphisch dar  "
   ]
  },
  {
   "cell_type": "code",
   "execution_count": 11,
   "metadata": {
    "collapsed": false
   },
   "outputs": [
    {
     "data": {
      "image/png": "[encoded data removed]",
      "text/plain": [
       "<matplotlib.figure.Figure at 0x79a53c8>"
      ]
     },
     "metadata": {},
     "output_type": "display_data"
    }
   ],
   "source": [
    "def f(x):\n",
    "    return exp((-(x**2 - 2)**2)/2)\n",
    "fv = np.vectorize(f)\n",
    "x = np.linspace(0, 2.5, 100)\n",
    "y = fv(x)\n",
    "pylab.plot(x,y,label='$e^{-(x^2-2)^2/2}$')\n",
    "_ = pylab.legend()"
   ]
  },
  {
   "cell_type": "markdown",
   "metadata": {},
   "source": [
    "Approximieren Sie das Integral im Intervall $x \\in [0,2.5]$ und bestimmen Sie jeweils den Erwartungswert und die Varianz  \n",
    "**b.)** mit der Hit-and-Miss Methode  "
   ]
  },
  {
   "cell_type": "code",
   "execution_count": 12,
   "metadata": {
    "collapsed": false
   },
   "outputs": [
    {
     "data": {
      "text/latex": [
       "$$\\langle I \\rangle_{N} = 0.982500$$"
      ],
      "text/plain": [
       "<IPython.core.display.Math object>"
      ]
     },
     "metadata": {},
     "output_type": "display_data"
    },
    {
     "data": {
      "text/latex": [
       "$$\\delta I = \\frac I {\\sqrt{N}} \\sqrt{\\frac A I - 1}) = 0.017268$$"
      ],
      "text/plain": [
       "<IPython.core.display.Math object>"
      ]
     },
     "metadata": {},
     "output_type": "display_data"
    }
   ],
   "source": [
    "N = 5000\n",
    "a = 0\n",
    "b = 2.5\n",
    "x = np.random.uniform(low=a, high=b,size=N)\n",
    "y = np.random.uniform(low=0, high=1,size=N)\n",
    "n_hit = numpy.count_nonzero(y < fv(x))\n",
    "result = n_hit*(2.5*1)/N\n",
    "display(Math('\\langle I \\\\rangle_{N} = %f' % result))\n",
    "deltaI = result/sqrt(N) * sqrt(2.5/result - 1)\n",
    "display(Math('\\delta I = \\\\frac I {\\sqrt{N}} \\sqrt{\\\\frac A I - 1}) = %f' % deltaI))"
   ]
  },
  {
   "cell_type": "markdown",
   "metadata": {},
   "source": [
    "**c.)** mit der Mittelwert Methode"
   ]
  },
  {
   "cell_type": "code",
   "execution_count": 13,
   "metadata": {
    "collapsed": false
   },
   "outputs": [
    {
     "data": {
      "text/latex": [
       "$$\\langle I \\rangle_{N} = 1.017246$$"
      ],
      "text/plain": [
       "<IPython.core.display.Math object>"
      ]
     },
     "metadata": {},
     "output_type": "display_data"
    }
   ],
   "source": [
    "N = 5000\n",
    "a = 0\n",
    "b = 2.5\n",
    "fxis = fv(np.random.uniform(low=a, high=b,size=N))\n",
    "result = (b-a)*sum(fxis)/N\n",
    "display(Math('\\langle I \\\\rangle_{N} = %f' % result))"
   ]
  },
  {
   "cell_type": "markdown",
   "metadata": {},
   "source": [
    "$$\\begin{align}\n",
    "\\Delta_{\\sigma_m} &= \\left(\\frac {\\langle I \\rangle_N - \\mathbb{E}[I]} {\\sigma/\\sqrt{N}}\\right) \\\\\n",
    "\\sigma &= \\sqrt{\\frac 1 N \\sum^N_{i=1}(f(\\xi_i) - \\mathbb{E}[I])^2}\n",
    "\\end{align}\n",
    "$$\n",
    "\n",
    "Nehme an: $\\mathbb{E}[I] = 0.9977$"
   ]
  },
  {
   "cell_type": "code",
   "execution_count": 14,
   "metadata": {
    "collapsed": false
   },
   "outputs": [
    {
     "data": {
      "text/latex": [
       "$$\\sigma = 0.677906$$"
      ],
      "text/plain": [
       "<IPython.core.display.Math object>"
      ]
     },
     "metadata": {},
     "output_type": "display_data"
    },
    {
     "data": {
      "text/latex": [
       "$$\\Delta_{\\sigma_{m}} = 0.000408$$"
      ],
      "text/plain": [
       "<IPython.core.display.Math object>"
      ]
     },
     "metadata": {},
     "output_type": "display_data"
    }
   ],
   "source": [
    "sigma = sqrt( sum((fxis - 0.9977)**2) / N  )\n",
    "display(Math('\\sigma = %f' % sigma))\n",
    "deltasigmam = (result - 0.9977) / (sigma * sqrt(N))\n",
    "display(Math('\\Delta_{\\sigma_{m}} = %f' % deltasigmam))\n",
    "\n",
    "del fxis"
   ]
  }
 ],
 "metadata": {
  "kernelspec": {
   "display_name": "Python 3",
   "language": "python",
   "name": "python3"
  },
  "language_info": {
   "codemirror_mode": {
    "name": "ipython",
    "version": 3
   },
   "file_extension": ".py",
   "mimetype": "text/x-python",
   "name": "python",
   "nbconvert_exporter": "python",
   "pygments_lexer": "ipython3",
   "version": "3.4.3"
  }
 },
 "nbformat": 4,
 "nbformat_minor": 0
}
