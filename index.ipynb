{
 "cells": [
  {
   "cell_type": "markdown",
   "metadata": {},
   "source": [
    "# Aufgaben: Methoden der Computer Simulation\n",
    "## Monte Carlo\n",
    "\n",
    "* [Aufgabe 2](Aufgabenblatt2.ipynb)\n",
    "  1. Lineare kongruente Zufallszahlen\n",
    "  2. Summe von Zufallszahlen\n",
    "* [Aufgabe 3](Aufgabenblatt3.ipynb)\n",
    "  1. Erzeugung von Zufallszahlen\n",
    "  2. Integration mit der Mittelwert-Methode\n",
    "  3. Vergleich zwischen Hit-And-Miss und Mittelwert-Methode\n",
    "* [Aufgabe 4](Aufgabenblatt4.ipynb) \n",
    "  1. First Passage Time\n",
    "  2. Selv Avoiding Random Walk\n",
    "* [Aufgabe 5](Aufgabenblatt5.ipynb)\n",
    "  1. Magnetische Suszeptiblität\n",
    "  2. Simulation des 2-d Ising Modells\n",
    "* Aufgabe 6\n",
    "  1. [Perkolation in 2 Dimensionen](Aufgabenblatt6_1.ipynb)\n",
    "  2. [Simulation von Waldbränden](Aufgabenblatt6_2.ipynb)"
   ]
  }
 ],
 "metadata": {
  "kernelspec": {
   "display_name": "Python 3",
   "language": "python",
   "name": "python3"
  },
  "language_info": {
   "codemirror_mode": {
    "name": "ipython",
    "version": 3
   },
   "file_extension": ".py",
   "mimetype": "text/x-python",
   "name": "python",
   "nbconvert_exporter": "python",
   "pygments_lexer": "ipython3",
   "version": "3.4.3"
  }
 },
 "nbformat": 4,
 "nbformat_minor": 0
}
